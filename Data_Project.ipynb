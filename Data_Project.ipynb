{
  "cells": [
    {
      "metadata": {
        "id": "_NLRWK_PqrDH"
      },
      "cell_type": "markdown",
      "source": [
        "# Data Project - Data Engineer - ETL\n"
      ]
    },
    {
      "metadata": {
        "id": "7VFuI9KYqrDJ"
      },
      "cell_type": "markdown",
      "source": [
        "\n",
        "\n",
        "### In this Project I will:\n",
        "*   Extract using API and Scraping   \n",
        "*   Implement the ETL process\n",
        "*   Extract bank and market cap data from the JSON file `bank_market_cap.json`\n",
        "*   Transform the market cap currency using the exchange rate data\n",
        "*   Load the transformed data into a seperate CSV\n",
        "*   Logging each step in the Pipeline"
      ]
    },
    {
      "metadata": {
        "id": "htrlVQ9NqrDN"
      },
      "cell_type": "markdown",
      "source": [
        "## Imports\n",
        "\n",
        "Import any additional libraries you may need here.\n"
      ]
    },
    {
      "metadata": {
        "id": "m7iQBwI2qrDO"
      },
      "cell_type": "code",
      "source": [
        "import glob\n",
        "import pandas as pd\n",
        "import requests\n",
        "from datetime import datetime\n",
        "from bs4 import BeautifulSoup\n",
        "import html5lib"
      ],
      "execution_count": 117,
      "outputs": []
    },
    {
      "metadata": {
        "id": "uq8hFWbBqrDO"
      },
      "cell_type": "markdown",
      "source": [
        "As the exchange rate fluctuates, we will download the same dataset to make marking simpler. This will be in the same format as the dataset you used in the last section\n"
      ]
    },
    {
      "cell_type": "markdown",
      "source": [
        "## Extract Data Using an API\n"
      ],
      "metadata": {
        "id": "mk8-t_zvPkbt"
      }
    },
    {
      "cell_type": "code",
      "source": [
        "# API Url and APIKey\n",
        "url = \"https://api.apilayer.com/exchangerates_data/latest?base=EUR&apikey=fWZUH7CEHQBZPwsD7AZUAW7a7SyMLSun\"\n",
        "data = requests.get(url)\n",
        "rates_dic = data.json()\n",
        "\n",
        "# Turn the data into a dataframe\n",
        "rates = pd.DataFrame().from_dict(rates_dic)\n",
        "\n",
        "# Drop unnescessary columns\n",
        "rates.drop(rates.columns[[0,1,2,3]], axis = 1, inplace =True)\n",
        "print(rates.columns)\n",
        "\n",
        "# Save the Dataframe\n",
        "rates.to_csv('exchange_rates.csv')"
      ],
      "metadata": {
        "colab": {
          "base_uri": "https://localhost:8080/"
        },
        "id": "ZnvYmqRQPoCm",
        "outputId": "156d52e3-a606-46b2-cf37-d4d80c895b1a"
      },
      "execution_count": 119,
      "outputs": [
        {
          "output_type": "stream",
          "name": "stdout",
          "text": [
            "Index(['rates'], dtype='object')\n"
          ]
        }
      ]
    },
    {
      "cell_type": "markdown",
      "source": [
        "## Extract Data Using Web Scraping"
      ],
      "metadata": {
        "id": "rbkM4hsHRXBC"
      }
    },
    {
      "cell_type": "markdown",
      "source": [
        "### Scraping the Data\n",
        "\n",
        "Using the contents and `beautiful soup` load the data from the `By market capitalization` table into a `pandas` dataframe. The dataframe should have the country `Name` and `Market Cap (US$ Billion)` as column names.  Display the first five rows using head."
      ],
      "metadata": {
        "id": "IO3jzyxMR546"
      }
    },
    {
      "cell_type": "code",
      "source": [
        "# Gather the contents of the webpage\n",
        "data = requests.get('https://en.wikipedia.org/wiki/List_of_largest_banks')\n",
        "html_data = data.content\n",
        "sou = 'By market capitalization'\n",
        "soup = BeautifulSoup(html_data, \"html.parser\")\n",
        "result = soup.find_all(\"tbody\")\n",
        "#print(result)\n",
        "# Extract data from page content\n",
        "market_cap = pd.DataFrame(columns = ['Name','Market Cap(US$ Billion'])\n",
        "i = 0\n",
        "name= []\n",
        "market = []\n",
        "for row in result[3].find_all('tr'):\n",
        "    rank = row.find_all('td')\n",
        "    if i == 0:\n",
        "        i += 1\n",
        "        pass\n",
        "    else:\n",
        "        #print(rank[1].text.strip())\n",
        "        name.append(rank[1].text.strip())\n",
        "        market.append(rank[2].text.strip())\n",
        "market_cap['Name'] = name\n",
        "market_cap['Market Cap(US$ Billion'] = market\n",
        "market_cap.head()\n",
        "# Save the data as json file \n",
        "market_cap.to_json('bank_market_cap.json')"
      ],
      "metadata": {
        "id": "V-mSl0jLRZ76"
      },
      "execution_count": 131,
      "outputs": []
    },
    {
      "metadata": {
        "id": "mFaMQ_6iqrDP"
      },
      "cell_type": "code",
      "source": [
        "!wget https://cf-courses-data.s3.us.cloud-object-storage.appdomain.cloud/IBMDeveloperSkillsNetwork-PY0221EN-SkillsNetwork/labs/module%206/Lab%20-%20Extract%20Transform%20Load/data/bank_market_cap_1.json\n",
        "!wget https://cf-courses-data.s3.us.cloud-object-storage.appdomain.cloud/IBMDeveloperSkillsNetwork-PY0221EN-SkillsNetwork/labs/module%206/Lab%20-%20Extract%20Transform%20Load/data/bank_market_cap_2.json\n",
        "!wget https://cf-courses-data.s3.us.cloud-object-storage.appdomain.cloud/IBMDeveloperSkillsNetwork-PY0221EN-SkillsNetwork/labs/module%206/Final%20Assignment/exchange_rates.csv"
      ],
      "execution_count": null,
      "outputs": []
    },
    {
      "metadata": {
        "id": "D_aFK1sSqrDS"
      },
      "cell_type": "markdown",
      "source": [
        "## Extract\n"
      ]
    },
    {
      "metadata": {
        "id": "BOHeyK6gqrDS"
      },
      "cell_type": "markdown",
      "source": [
        "### JSON Extract Function\n",
        "\n",
        "This function will extract JSON files.\n"
      ]
    },
    {
      "metadata": {
        "id": "FTsBrASWqrDT"
      },
      "cell_type": "code",
      "source": [
        "def extract_from_json(file_to_process):\n",
        "    dataframe = pd.read_json(file_to_process, lines= False)\n",
        "    return dataframe"
      ],
      "execution_count": 122,
      "outputs": []
    },
    {
      "metadata": {
        "id": "Kp9BkQbRqrDU"
      },
      "cell_type": "markdown",
      "source": [
        "## Extract Function\n",
        "\n",
        "Define the extract function that finds JSON file `bank_market_cap_*.json` and calls the function created above to extract data from them. Store the data in a `pandas` dataframe. Use the following list for the columns.\n"
      ]
    },
    {
      "metadata": {
        "id": "ddgh5kM1qrDV"
      },
      "cell_type": "code",
      "source": [
        "columns=['Name','Market Cap (US$ Billion)']"
      ],
      "execution_count": 123,
      "outputs": []
    },
    {
      "metadata": {
        "id": "bLgbLZbbqrDV"
      },
      "cell_type": "code",
      "source": [
        "def extract():\n",
        "    json_data = pd.DataFrame(columns = columns)\n",
        "    for file in glob.glob('*.json'):\n",
        "       # print(file, '  ',extract_from_json('bank_market_cap_1.json'))\n",
        "        json_data = json_data.append(extract_from_json('bank_market_cap_1.json'), ignore_index= True)\n",
        "    return json_data\n"
      ],
      "execution_count": 124,
      "outputs": []
    },
    {
      "metadata": {
        "id": "oWnEAVZ7qrDW"
      },
      "cell_type": "markdown",
      "source": [
        "Load the file <code>exchange_rates.csv</code> as a dataframe and find the exchange rate for British pounds with the symbol <code>GBP</code>\n"
      ]
    },
    {
      "metadata": {
        "colab": {
          "base_uri": "https://localhost:8080/"
        },
        "id": "Ju0htZoZqrDX",
        "outputId": "410d828f-a419-479a-e92f-06f1311a86a4"
      },
      "cell_type": "code",
      "source": [
        "def extract_from_csv(csv_file):\n",
        "    dataframe = pd.read_csv(csv_file, index_col = 0)\n",
        "    return dataframe\n",
        "\n",
        "exchange_rates = extract_from_csv('exchange_rates.csv')\n",
        "exchange_rate = exchange_rates.loc['GBP']\n",
        "print(exchange_rate)"
      ],
      "execution_count": 125,
      "outputs": [
        {
          "output_type": "stream",
          "name": "stdout",
          "text": [
            "rates    0.848714\n",
            "Name: GBP, dtype: float64\n"
          ]
        }
      ]
    },
    {
      "metadata": {
        "id": "wmEpWKXbqrDY"
      },
      "cell_type": "markdown",
      "source": [
        "## Transform\n",
        "\n",
        "Using <code>exchange_rate</code> and the `exchange_rates.csv` file find the exchange rate of USD to GBP. Write a transform function that\n",
        "\n",
        "1.  Changes the `Market Cap (US$ Billion)` column from USD to GBP\n",
        "2.  Rounds the Market Cap (US$ Billion)\\` column to 3 decimal places\n",
        "3.  Rename `Market Cap (US$ Billion)` to `Market Cap (GBP$ Billion)`\n"
      ]
    },
    {
      "metadata": {
        "id": "IUnBBnzxqrDY"
      },
      "cell_type": "code",
      "source": [
        "def transform(bank_market_cap, exchange_rate):\n",
        "    bank_market_cap['Market Cap (US$ Billion)'] =[ round(x * exchange_rate,3) for x in bank_market_cap.loc[:,'Market Cap (US$ Billion)']]\n",
        "    #bank_market_cap['Market Cap (US$ Billion)'] = [round(x,3) for x in bank_market_cap.loc[:,'Market Cap (US$ Billion)']]\n",
        "    bank_market_cap.rename( columns = {'Market Cap (US$ Billion)' : 'Market Cap (GBP$ Billion)'}, inplace = True)\n",
        "    return bank_market_cap\n",
        "\n"
      ],
      "execution_count": 126,
      "outputs": []
    },
    {
      "metadata": {
        "id": "CFktngoNqrDZ"
      },
      "cell_type": "markdown",
      "source": [
        "## Load\n",
        "\n",
        "Create a function that takes a dataframe and load it to a csv named `bank_market_cap_gbp.csv`.\n"
      ]
    },
    {
      "metadata": {
        "id": "kE2XyI2DqrDa"
      },
      "cell_type": "code",
      "source": [
        "def load(data, target):\n",
        "    data.to_csv(target, index = False)"
      ],
      "execution_count": 127,
      "outputs": []
    },
    {
      "metadata": {
        "id": "lf8q3AbHqrDa"
      },
      "cell_type": "markdown",
      "source": [
        "## Logging Function\n"
      ]
    },
    {
      "metadata": {
        "id": "o0VeEfv0qrDb"
      },
      "cell_type": "markdown",
      "source": [
        "Write the logging function <code>log</code> to log your data:\n"
      ]
    },
    {
      "metadata": {
        "id": "VSilYjCpqrDb"
      },
      "cell_type": "code",
      "source": [
        "def log(message):\n",
        "    # Write your code here\n",
        "    timestamp_format = '%Y - %h - %d %H:%M:%S'\n",
        "    cur_date = datetime.now()\n",
        "    timestamp = cur_date.strftime(timestamp_format)\n",
        "    with open('log.csv','a') as log_f:\n",
        "      log_f.write(message + ' '+ timestamp+' ')\n"
      ],
      "execution_count": 128,
      "outputs": []
    },
    {
      "metadata": {
        "id": "O40kEk-xqrDb"
      },
      "cell_type": "markdown",
      "source": [
        "## Running the ETL Process\n"
      ]
    },
    {
      "metadata": {
        "colab": {
          "base_uri": "https://localhost:8080/"
        },
        "id": "uq7QW8mmqrDc",
        "outputId": "e89f00f7-4c27-48b9-f8ad-e8c6d5dbe1f0"
      },
      "cell_type": "code",
      "source": [
        "# Write your code here\n",
        "log('ETL Job Started')\n",
        "log('Extract Phase Started')\n",
        "# Call the function here\n",
        "extracted_data = extract()\n",
        "# Print the rows here\n",
        "print(extracted_data.head())\n",
        "# Write your code here\n",
        "log('Extract Phase ended')\n",
        "# Write your code here\n",
        "log('Transform Phase Started')\n",
        "# Call the function here\n",
        "transformed_data = transform(extracted_data,exchange_rate)\n",
        "# Print the first 5 rows here\n",
        "print(transformed_data.head())\n",
        "# Write your code here\n",
        "log('Transformed phase Ended')\n",
        "# Write your code here\n",
        "log('Load phase Started')\n",
        "# Write your code here\n",
        "load(transformed_data,'bank_market_cap_gbp.csv')\n",
        "# Write your code here\n",
        "log('Load phase Ended')"
      ],
      "execution_count": 129,
      "outputs": [
        {
          "output_type": "stream",
          "name": "stdout",
          "text": [
            "                                      Name  Market Cap (US$ Billion)\n",
            "0                           JPMorgan Chase                   390.934\n",
            "1  Industrial and Commercial Bank of China                   345.214\n",
            "2                          Bank of America                   325.331\n",
            "3                              Wells Fargo                   308.013\n",
            "4                  China Construction Bank                   257.399\n",
            "                                      Name  \\\n",
            "0                           JPMorgan Chase   \n",
            "1  Industrial and Commercial Bank of China   \n",
            "2                          Bank of America   \n",
            "3                              Wells Fargo   \n",
            "4                  China Construction Bank   \n",
            "\n",
            "                    Market Cap (GBP$ Billion)  \n",
            "0  rates    331.791\n",
            "Name: GBP, dtype: float64  \n",
            "1  rates    292.988\n",
            "Name: GBP, dtype: float64  \n",
            "2  rates    276.113\n",
            "Name: GBP, dtype: float64  \n",
            "3  rates    261.415\n",
            "Name: GBP, dtype: float64  \n",
            "4  rates    218.458\n",
            "Name: GBP, dtype: float64  \n"
          ]
        }
      ]
    },
    {
      "metadata": {
        "id": "Lj2Hw9QGqrDj"
      },
      "cell_type": "markdown",
      "source": [
        "## Authors\n"
      ]
    },
    {
      "metadata": {
        "id": "3R35mQMpqrDj"
      },
      "cell_type": "markdown",
      "source": [
        "Abdelrahman Mamdouh"
      ]
    }
  ],
  "metadata": {
    "kernelspec": {
      "name": "python3",
      "display_name": "Python 3.9",
      "language": "python"
    },
    "language_info": {
      "name": "python",
      "version": "3.9.7",
      "mimetype": "text/x-python",
      "codemirror_mode": {
        "name": "ipython",
        "version": 3
      },
      "pygments_lexer": "ipython3",
      "nbconvert_exporter": "python",
      "file_extension": ".py"
    },
    "colab": {
      "name": "Data Project.ipynb",
      "provenance": [],
      "collapsed_sections": []
    }
  },
  "nbformat": 4,
  "nbformat_minor": 0
}